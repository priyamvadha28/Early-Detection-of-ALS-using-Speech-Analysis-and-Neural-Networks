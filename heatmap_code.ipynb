{
 "cells": [
  {
   "cell_type": "code",
   "execution_count": 16,
   "metadata": {},
   "outputs": [],
   "source": [
    "import librosa\n",
    "import numpy as np\n",
    "import matplotlib.pyplot as plt\n",
    "import librosa.display\n",
    "import os"
   ]
  },
  {
   "cell_type": "code",
   "execution_count": 17,
   "metadata": {},
   "outputs": [],
   "source": [
    "# Define the folder paths\n",
    "input_folder = r\"C:\\Users\\Priyamvadha Pradeep\\Desktop\\FYP\\fyp_dataset\\fyp_dataset\\phonation_u\"\n",
    "output_folder = r\"C:\\Users\\Priyamvadha Pradeep\\Desktop\\FYP\\heatmap code\\spectrograms\"\n",
    "\n",
    "# Create the output folder if it doesn't exist\n",
    "os.makedirs(output_folder, exist_ok=True)"
   ]
  },
  {
   "cell_type": "code",
   "execution_count": 18,
   "metadata": {},
   "outputs": [],
   "source": [
    "# Loop through all .wav files in the input folder\n",
    "for filename in os.listdir(input_folder):\n",
    "    if filename.endswith(\".wav\"):\n",
    "        # Construct full file path\n",
    "        file_path = os.path.join(input_folder, filename)\n",
    "        \n",
    "        # Load the audio file\n",
    "        y, sr = librosa.load(file_path, sr=None)\n",
    "        \n",
    "        # Extract mel spectrogram\n",
    "        S = librosa.feature.melspectrogram(y=y, sr=sr, n_mels=128)\n",
    "        \n",
    "        # Convert to decibels\n",
    "        S_dB = librosa.power_to_db(S, ref=np.max)\n",
    "        \n",
    "        # Plot the mel spectrogram\n",
    "        plt.figure(figsize=(10, 6))\n",
    "        librosa.display.specshow(S_dB, sr=sr, x_axis='time', y_axis='mel')\n",
    "        plt.colorbar(format='%+2.0f dB')\n",
    "        plt.title(f'Mel Spectrogram for {filename}')\n",
    "        plt.xlabel('Time')\n",
    "        plt.ylabel('Frequency')\n",
    "        \n",
    "        # Save the heatmap as an image in the output folder\n",
    "        output_path = os.path.join(output_folder, f\"{os.path.splitext(filename)[0]}_spectrogram.png\")\n",
    "        plt.savefig(output_path)\n",
    "        plt.close()  # Close the plot to free up memory"
   ]
  },
  {
   "cell_type": "code",
   "execution_count": 19,
   "metadata": {},
   "outputs": [
    {
     "name": "stdout",
     "output_type": "stream",
     "text": [
      "Spectrograms saved to C:\\Users\\Priyamvadha Pradeep\\Desktop\\FYP\\heatmap code\\spectrograms\n"
     ]
    }
   ],
   "source": [
    "print(f\"Spectrograms saved to {output_folder}\")"
   ]
  }
 ],
 "metadata": {
  "kernelspec": {
   "display_name": "Python 3",
   "language": "python",
   "name": "python3"
  },
  "language_info": {
   "codemirror_mode": {
    "name": "ipython",
    "version": 3
   },
   "file_extension": ".py",
   "mimetype": "text/x-python",
   "name": "python",
   "nbconvert_exporter": "python",
   "pygments_lexer": "ipython3",
   "version": "3.12.4"
  }
 },
 "nbformat": 4,
 "nbformat_minor": 2
}
