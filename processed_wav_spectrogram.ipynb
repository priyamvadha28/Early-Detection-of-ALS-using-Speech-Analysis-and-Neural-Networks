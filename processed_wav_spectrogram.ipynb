{
 "cells": [
  {
   "cell_type": "code",
   "execution_count": 3,
   "metadata": {},
   "outputs": [],
   "source": [
    "import librosa\n",
    "import numpy as np\n",
    "import matplotlib.pyplot as plt\n",
    "import librosa.display\n",
    "import os"
   ]
  },
  {
   "cell_type": "code",
   "execution_count": 4,
   "metadata": {},
   "outputs": [],
   "source": [
    "# Define the folder paths for training and validation\n",
    "input_folders = {\n",
    "    'train': r\"C:\\Users\\Priyamvadha Pradeep\\Desktop\\FYP\\CNN\\New Models\\wav files\\train\",\n",
    "    'validate': r\"C:\\Users\\Priyamvadha Pradeep\\Desktop\\FYP\\CNN\\New Models\\wav files\\validate\"\n",
    "}\n",
    "\n",
    "output_base_folder = r\"C:\\Users\\Priyamvadha Pradeep\\Desktop\\FYP\\CNN\\New Models\"\n",
    "\n",
    "# Create output folders for training and validation if they don't exist\n",
    "for subset in input_folders.keys():\n",
    "    os.makedirs(os.path.join(output_base_folder, subset), exist_ok=True)"
   ]
  },
  {
   "cell_type": "code",
   "execution_count": 5,
   "metadata": {},
   "outputs": [],
   "source": [
    "# Loop through training and validation folders\n",
    "for subset, input_folder in input_folders.items():\n",
    "    output_folder = os.path.join(output_base_folder, subset)\n",
    "    \n",
    "    # Process each .wav file in the folder\n",
    "    for root, _, files in os.walk(input_folder):\n",
    "        for filename in files:\n",
    "            if filename.endswith(\".wav\"):\n",
    "                # Construct full file path\n",
    "                file_path = os.path.join(root, filename)\n",
    "                \n",
    "                # Load the audio file\n",
    "                y, sr = librosa.load(file_path, sr=None)\n",
    "                \n",
    "                # Extract mel spectrogram\n",
    "                S = librosa.feature.melspectrogram(y=y, sr=sr, n_mels=128)\n",
    "                \n",
    "                # Convert to decibels\n",
    "                S_dB = librosa.power_to_db(S, ref=np.max)\n",
    "                \n",
    "                # Plot the mel spectrogram\n",
    "                plt.figure(figsize=(10, 6))\n",
    "                librosa.display.specshow(S_dB, sr=sr, x_axis='time', y_axis='mel')\n",
    "                plt.colorbar(format='%+2.0f dB')\n",
    "                plt.title(f'Mel Spectrogram for {filename}')\n",
    "                plt.xlabel('Time')\n",
    "                plt.ylabel('Frequency')\n",
    "                \n",
    "                # Define the output path and save the spectrogram\n",
    "                rel_path = os.path.relpath(root, input_folder)  # Get relative path\n",
    "                output_path = os.path.join(output_folder, rel_path, f\"{os.path.splitext(filename)[0]}_spectrogram.png\")\n",
    "                os.makedirs(os.path.dirname(output_path), exist_ok=True)  # Create subdirectories if needed\n",
    "                plt.savefig(output_path)\n",
    "                plt.close()  # Close the plot to free up memory"
   ]
  },
  {
   "cell_type": "code",
   "execution_count": 6,
   "metadata": {},
   "outputs": [
    {
     "name": "stdout",
     "output_type": "stream",
     "text": [
      "Spectrograms saved to C:\\Users\\Priyamvadha Pradeep\\Desktop\\FYP\\CNN\\New Models\n"
     ]
    }
   ],
   "source": [
    "print(f\"Spectrograms saved to {output_base_folder}\")"
   ]
  }
 ],
 "metadata": {
  "kernelspec": {
   "display_name": "Python 3",
   "language": "python",
   "name": "python3"
  },
  "language_info": {
   "codemirror_mode": {
    "name": "ipython",
    "version": 3
   },
   "file_extension": ".py",
   "mimetype": "text/x-python",
   "name": "python",
   "nbconvert_exporter": "python",
   "pygments_lexer": "ipython3",
   "version": "3.12.4"
  }
 },
 "nbformat": 4,
 "nbformat_minor": 2
}
